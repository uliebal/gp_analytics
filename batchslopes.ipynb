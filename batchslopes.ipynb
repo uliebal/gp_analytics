{
 "cells": [
  {
   "cell_type": "code",
   "execution_count": null,
   "id": "compound-indie",
   "metadata": {},
   "outputs": [],
   "source": [
    "import numpy as np\n",
    "import pandas as pd\n",
    "import os\n",
    "import warnings\n",
    "# from batchslopes import *\n",
    "import sys\n",
    "sys.path.append('..')\n",
    "from batchslopes import *\n",
    "warnings.filterwarnings(\"ignore\", category=DeprecationWarning) \n",
    "warnings.filterwarnings(\"ignore\", category=np.VisibleDeprecationWarning) \n",
    "# from collections import OrderedDict\n",
    "import matplotlib.pyplot as plt"
   ]
  },
  {
   "cell_type": "code",
   "execution_count": null,
   "id": "exposed-member",
   "metadata": {},
   "outputs": [],
   "source": [
    "File = os.path.join('data','GP_20210507_171028_MTP03_GValue.csv')\n",
    "df = pd.read_csv(File, skiprows=23, decimal=',')\n",
    "df.plot(x='Time (min)', y='A3')\n",
    "print(df.columns)"
   ]
  },
  {
   "cell_type": "code",
   "execution_count": null,
   "id": "cross-centre",
   "metadata": {},
   "outputs": [],
   "source": [
    "myExp = 'A3'\n",
    "t = df['Time (min)'].values\n",
    "x = df[myExp].values\n",
    "myResult = DetectR2MaxSingle(t,x,3)\n",
    "print(myResult)\n",
    "plt.plot(t, np.log(x))\n",
    "if myResult!=False:\n",
    "    plt.scatter(myResult['time'], np.log(myResult['OD']))\n",
    "    plt.plot(myResult['time'], myResult['Slope']*myResult['time'] + myResult['ycorrect'], 'r', label='$\\mu$:{:.3f}, R2:{:.2f}'.format(myResult['Slope'], myResult['R2']))\n",
    "    plt.legend()\n",
    "    myResult['ID'] = myExp\n",
    "\n",
    "# myResult"
   ]
  },
  {
   "cell_type": "code",
   "execution_count": null,
   "id": "exposed-transportation",
   "metadata": {},
   "outputs": [],
   "source": [
    "myCols = df.columns[1:-2]\n",
    "NumExp = len(myCols)\n",
    "AxDim = np.ceil(np.sqrt(NumExp))\n",
    "Partition = 3\n",
    "t = df['Time (min)'].values\n",
    "# plt.subplots(AxDim, AxDim, sharex='col')\n",
    "fig, ax = plt.subplots(figsize=[20,10], sharey=True)\n",
    "for idx, myExp in enumerate(myCols):\n",
    "#     print(myExp)\n",
    "    x = df[myExp].values\n",
    "    myResult = DetectR2MaxSingle(t,x,Partition)\n",
    "    plt.subplot(5,5, idx+1)\n",
    "    plt.plot(t, np.log(x))\n",
    "    plt.title(myExp)\n",
    "    if myResult is not False:\n",
    "        plt.scatter(myResult['time'], np.log(myResult['OD']))\n",
    "        plt.plot(myResult['time'], myResult['Slope']*myResult['time'] + myResult['ycorrect'], 'r', label='$\\mu$:{:.3f}, R2:{:.2f}'.format(myResult['Slope'], myResult['R2']))\n",
    "        myResult['ID'] = myExp\n",
    "        plt.legend()\n",
    "    plt.tick_params(left=False, bottom=False, labelleft=False, labelbottom=False)\n",
    "    \n",
    "fig.text(0.5, 0.1, 'time', ha='center')\n",
    "fig.text(0.1, 0.5, 'ln(OD)', va='center', rotation='vertical')\n",
    "plt.savefig('myPlots.svg', format='svg')"
   ]
  }
 ],
 "metadata": {
  "kernelspec": {
   "display_name": "batchslopes",
   "language": "python",
   "name": "batchslopes"
  },
  "language_info": {
   "codemirror_mode": {
    "name": "ipython",
    "version": 3
   },
   "file_extension": ".py",
   "mimetype": "text/x-python",
   "name": "python",
   "nbconvert_exporter": "python",
   "pygments_lexer": "ipython3",
   "version": "3.7.10"
  }
 },
 "nbformat": 4,
 "nbformat_minor": 5
}
