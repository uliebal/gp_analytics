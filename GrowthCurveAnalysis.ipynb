{
 "cells": [
  {
   "cell_type": "markdown",
   "id": "correct-childhood",
   "metadata": {},
   "source": [
    "# *Growth Profiler* Data Analysis\n",
    "\n",
    "The *Growth Profiler* is a high throughput device for growth characterization. Growth is automatically measured via OD in 96-well plates and the results are stored in csv files. This workflow trains analysis of growth data in csv format.\n",
    "\n",
    "## Loading libraries\n",
    "There are some general Python libraries necessary in order to have usefull functions available. The library responsible for growth curve analysis is `batchslopes` [Link](https://github.com/uliebal/gp_analytics) and contains functions specifically designed for analysis of the *Growth Profiler*. "
   ]
  },
  {
   "cell_type": "code",
   "execution_count": null,
   "id": "herbal-morocco",
   "metadata": {},
   "outputs": [],
   "source": [
    "import numpy as np\n",
    "import pandas as pd\n",
    "import os\n",
    "import warnings\n",
    "import sys\n",
    "sys.path.append('..')\n",
    "from batchslopes import *\n",
    "warnings.filterwarnings(\"ignore\", category=DeprecationWarning) \n",
    "warnings.filterwarnings(\"ignore\", category=np.VisibleDeprecationWarning) \n",
    "# from collections import OrderedDict\n",
    "import matplotlib.pyplot as plt"
   ]
  },
  {
   "cell_type": "markdown",
   "id": "liable-medication",
   "metadata": {},
   "source": [
    "## Data input and descripion\n",
    "\n",
    "The standard growth profiler csv file contains in the first rows some general information on the experimental conditions. We ignore these metadata in the regression analysis, however, make sure to include the header names when the real data starts. The first column should contain the time measurements, and all other columns are OD values. The *Growth Profiler* usually measures the time in minutes, other experimental data, like in *RecExpSim*, uses hours as time unit. The workflow tries to unify the time-based analysis by dividing the time vector with the variable `TimeUnit`.\n",
    "\n",
    "The data is partitioned (binned, variable `Partition`) and in each bin a regression on the logarithmic data is conducted. The bin with the best correlation coefficient is then selected for further partitioning until the correlation coefficient gets worse (is decreasing). The correlation coefficient and the corresponding slope of the logarithmic OD are reported.\n",
    "\n",
    "**Important**: Check the decimal separator. Science typically works with the english convention of point-separators (`10,000.23`), but the *Growth Profiler* or your local system might generate an csv with german comma-separators (`10.000,23`).\n",
    "\n",
    "\n",
    "**Input:**\n",
    " - `File`: string, growth experiment csv-file name\n",
    " - `skiprows`: integer, lines of experimental metadata, Start counting from 0.\n",
    " - `decimal`: string ('.' or ','), decimal separator \n",
    " - `TimeUnit`: integer, for measure time in minutes: 60, hours: 1\n",
    " - `Partition`: integer, decides the number of bins on which regression is performed"
   ]
  },
  {
   "cell_type": "code",
   "execution_count": null,
   "id": "b1b8e339-84c1-4651-8ab3-0edc3c49a165",
   "metadata": {},
   "outputs": [],
   "source": [
    "#if 'Input_Image' in list(df.columns):\n",
    "#    print('success')"
   ]
  },
  {
   "cell_type": "code",
   "execution_count": null,
   "id": "monthly-combining",
   "metadata": {},
   "outputs": [],
   "source": [
    "File = os.path.join('data', 'Strain_characterization_1.csv')       #GP_20210507_171028_MTP03_GValue\n",
    "skiprows = 0\n",
    "decimal = '.'\n",
    "TimeUnit = 1\n",
    "Partition = 2\n",
    "df = pd.read_csv(File, skiprows=skiprows , decimal=decimal)\n",
    "if 'Input_Image' in list(df.columns):\n",
    "    df = df.drop(labels='Input_Image', axis=1)\n",
    "TimeAx = df.columns[0] #'Time (min)' # for growth profiler\n",
    "Exp0 = df.columns[1]\n",
    "print('Column headers: ', df.columns)\n",
    "df.plot(x=TimeAx, y=Exp0)\n",
    "\n",
    "GVexp = 2\n",
    "eexp = -10"
   ]
  },
  {
   "cell_type": "markdown",
   "id": "infrared-discount",
   "metadata": {},
   "source": [
    "## Single Experiment Analysis\n",
    "\n",
    "Below, we check individual growth curves and their regression. This can be helpful if you want to examine a particular experiment."
   ]
  },
  {
   "cell_type": "code",
   "execution_count": null,
   "id": "duplicate-complexity",
   "metadata": {},
   "outputs": [],
   "source": [
    "t = df[TimeAx].values/TimeUnit\n",
    "x = df[Exp0].values\n",
    "myResult = DetectR2MaxSingle(t,x,Partition)\n",
    "print(myResult)\n",
    "plt.plot(t, np.log(x))\n",
    "if myResult!=False:\n",
    "    plt.scatter(myResult['time'], np.log(myResult['OD']))\n",
    "    plt.plot(myResult['time'], myResult['Slope']*myResult['time'] + myResult['ycorrect'], 'r', label='$\\mu$:{:.3f}, R2:{:.2f}'.format(myResult['Slope'], myResult['R2']))\n",
    "    plt.legend()\n",
    "    myResult['ID'] = Exp0\n",
    "\n",
    "# myResult"
   ]
  },
  {
   "cell_type": "markdown",
   "id": "received-feeding",
   "metadata": {},
   "source": [
    "## All Experiment Analysis\n",
    "\n",
    "Below, all experiments in the csv file are analysed. The final information is stored in plots showing the regression range for each experiment along with the growth rate and the correlation coefficient and stored as `myPlots.svg`. If the regressions look unconvincing, try a different partition."
   ]
  },
  {
   "cell_type": "code",
   "execution_count": null,
   "id": "f078788b-395b-41c1-add5-7beb157fff2c",
   "metadata": {},
   "outputs": [],
   "source": [
    "myCols = df.columns[1:]\n",
    "\n",
    "subplot_x = round(np.sqrt(len(myCols)))\n",
    "subplot_y = round(np.sqrt(len(myCols))) + 1\n",
    "\n",
    "OD = pd.DataFrame()\n",
    "for i1 in myCols: \n",
    "    OD[i1] = CorrectedOD(df[i1], GVexp, eexp)\n",
    "mu_list = []\n",
    "r2_list = []\n",
    "\n",
    "NumExp = len(myCols)\n",
    "AxDim = np.ceil(np.sqrt(NumExp))\n",
    "t = df[TimeAx].values/TimeUnit\n",
    "# plt.subplots(AxDim, AxDim, sharex='col')\n",
    "fig, ax = plt.subplots(figsize=[20,10], sharey=True)\n",
    "for idx, myExp in enumerate(myCols):\n",
    "#     print(myExp)\n",
    "    x = OD[myExp].values\n",
    "    myResult = DetectR2MaxSingle(t,x,Partition)\n",
    "    plt.subplot(subplot_x, subplot_y, idx+1)\n",
    "    plt.plot(t, np.log(x))\n",
    "    plt.title(myExp)\n",
    "    if myResult is not False:\n",
    "        plt.scatter(myResult['time'], np.log(myResult['OD']))\n",
    "        plt.plot(myResult['time'], myResult['Slope']*myResult['time'] + myResult['ycorrect'], 'r', label='$\\mu$:{:.3f}, R2:{:.2f}'.format(myResult['Slope'], myResult['R2']))\n",
    "        myResult['ID'] = myExp\n",
    "        plt.legend()\n",
    "        #hier Dataframe für Mu und R2 feeden\n",
    "        mu_list.append(myResult['Slope'])\n",
    "        r2_list.append(myResult['R2'])\n",
    "    if myResult is False:\n",
    "        mu_list.append(False)\n",
    "        r2_list.append(False)\n",
    "    plt.tick_params(left=False, bottom=False, labelleft=False, labelbottom=False)\n",
    "    \n",
    "    \n",
    "fig.text(0.5, 0.1, 'time', ha='center')\n",
    "fig.text(0.1, 0.5, 'ln(OD)', va='center', rotation='vertical')\n",
    "plt.savefig('myPlots.svg', format='svg')"
   ]
  },
  {
   "cell_type": "code",
   "execution_count": null,
   "id": "7f019491-4bed-4b19-8519-5d9b3d8ce112",
   "metadata": {},
   "outputs": [],
   "source": [
    "csv = pd.DataFrame()\n",
    "csv['Wells'] = myCols\n",
    "csv['Mu value'] = mu_list\n",
    "csv['R2 value'] = r2_list\n",
    "csv.to_csv('newcsv.csv')"
   ]
  },
  {
   "cell_type": "code",
   "execution_count": null,
   "id": "bd1acb76-adfa-48b3-8c03-f980626721c5",
   "metadata": {},
   "outputs": [],
   "source": []
  },
  {
   "cell_type": "code",
   "execution_count": null,
   "id": "f5a61067-8910-498d-a168-009e1b7a20e3",
   "metadata": {},
   "outputs": [],
   "source": []
  },
  {
   "cell_type": "code",
   "execution_count": null,
   "id": "449f333c-8549-40d7-8153-b3a73cbcbb24",
   "metadata": {},
   "outputs": [],
   "source": []
  }
 ],
 "metadata": {
  "kernelspec": {
   "display_name": "Python 3",
   "language": "python",
   "name": "python3"
  },
  "language_info": {
   "codemirror_mode": {
    "name": "ipython",
    "version": 3
   },
   "file_extension": ".py",
   "mimetype": "text/x-python",
   "name": "python",
   "nbconvert_exporter": "python",
   "pygments_lexer": "ipython3",
   "version": "3.8.8"
  }
 },
 "nbformat": 4,
 "nbformat_minor": 5
}
