{
 "cells": [
  {
   "cell_type": "markdown",
   "id": "correct-childhood",
   "metadata": {},
   "source": [
    "# *Growth Profiler* Data Analysis\n",
    "\n",
    "The *Growth Profiler* is a high throughput device for growth characterization. Growth is automatically measured via OD in 96-well plates and the results are stored in csv files. This workflow trains analysis of growth data in csv format.\n",
    "\n",
    "## Loading libraries\n",
    "There are some general Python libraries necessary in order to have usefull functions available. The library responsible for growth curve analysis is `batchslopes` [Link](https://github.com/uliebal/gp_analytics) and contains functions specifically designed for analysis of the *Growth Profiler*. "
   ]
  },
  {
   "cell_type": "code",
   "execution_count": null,
   "id": "herbal-morocco",
   "metadata": {},
   "outputs": [],
   "source": [
    "import numpy as np\n",
    "import pandas as pd\n",
    "import os\n",
    "import warnings\n",
    "# from batchslopes import *\n",
    "# import sys\n",
    "# sys.path.append('..')\n",
    "!pip install batchslopes\n",
    "from batchslopes import *\n",
    "warnings.filterwarnings(\"ignore\", category=DeprecationWarning) \n",
    "warnings.filterwarnings(\"ignore\", category=np.VisibleDeprecationWarning) \n",
    "# from collections import OrderedDict\n",
    "import matplotlib.pyplot as plt"
   ]
  },
  {
   "cell_type": "markdown",
   "id": "liable-medication",
   "metadata": {},
   "source": [
    "## Data input and descripion\n",
    "\n",
    "The standard growth profiler csv file contains in the first rows some general information on the experimental conditions. We ignore these metadata in the regression analysis, however, make sure to include the header names when the real data starts. The first column should contain the time measurements, and all other columns are OD values. The *Growth Profiler* usually measures the time in minutes, other experimental data, like in *RecExpSim*, uses hours as time unit. The workflow tries to unify the time-based analysis by dividing the time vector with the variable `TimeUnit`.\n",
    "\n",
    "The data is partitioned (binned, variable `Partition`) and in each bin a regression on the logarithmic data is conducted. The bin with the best correlation coefficient is then selected for further partitioning until the correlation coefficient gets worse (is decreasing). The correlation coefficient and the corresponding slope of the logarithmic OD are reported.\n",
    "\n",
    "**Important**: Check the decimal separator. Science typically works with the english convention of point-separators (`10,000.23`), but the *Growth Profiler* or your local system might generate an csv with german comma-separators (`10.000,23`).\n",
    "\n",
    "\n",
    "**Input:**\n",
    " - `File`: string, growth experiment csv-file name\n",
    " - `skiprows`: integer, lines of experimental metadata, Start counting from 0.\n",
    " - `decimal`: string ('.' or ','), decimal separator \n",
    " - `TimeUnit`: integer, for measure time in minutes: 60, hours: 1\n",
    " - `Partition`: integer, decides the number of bins on which regression is performed"
   ]
  },
  {
   "cell_type": "code",
   "execution_count": null,
   "id": "monthly-combining",
   "metadata": {},
   "outputs": [],
   "source": [
    "File = None\n",
    "skiprows = None\n",
    "decimal = None\n",
    "TimeUnit = None\n",
    "Partition = None\n",
    "df = pd.read_csv(File, skiprows=skiprows , decimal=decimal)\n",
    "df = df.drop(labels='Input_Image', axis=1)\n",
    "TimeAx = df.columns[0] #'Time (min)' # for growth profiler\n",
    "Exp0 = df.columns[1]\n",
    "print('Column headers: ', df.columns)\n",
    "df.plot(x=TimeAx, y=Exp0)"
   ]
  },
  {
   "cell_type": "markdown",
   "id": "infrared-discount",
   "metadata": {},
   "source": [
    "## Single Experiment Analysis\n",
    "\n",
    "Below, we check individual growth curves and their regression. This can be helpful if you want to examine a particular experiment."
   ]
  },
  {
   "cell_type": "code",
   "execution_count": null,
   "id": "duplicate-complexity",
   "metadata": {},
   "outputs": [],
   "source": [
    "t = df[TimeAx].values/TimeUnit\n",
    "x = df[Exp0].values\n",
    "myResult = DetectR2MaxSingle(t,x,Partition)\n",
    "print(myResult)\n",
    "plt.plot(t, np.log(x))\n",
    "if myResult!=False:\n",
    "    plt.scatter(myResult['time'], np.log(myResult['OD']))\n",
    "    plt.plot(myResult['time'], myResult['Slope']*myResult['time'] + myResult['ycorrect'], 'r', label='$\\mu$:{:.3f}, R2:{:.2f}'.format(myResult['Slope'], myResult['R2']))\n",
    "    plt.legend()\n",
    "    myResult['ID'] = Exp0\n",
    "\n",
    "# myResult"
   ]
  },
  {
   "cell_type": "markdown",
   "id": "received-feeding",
   "metadata": {},
   "source": [
    "## All Experiment Analysis\n",
    "\n",
    "Below, all experiments in the csv file are analysed. The final information is stored in plots showing the regression range for each experiment along with the growth rate and the correlation coefficient and stored as `myPlots.svg`. If the regressions look unconvincing, try a different partition."
   ]
  },
  {
   "cell_type": "code",
   "execution_count": null,
   "id": "alone-shape",
   "metadata": {},
   "outputs": [],
   "source": [
    "myCols = df.columns[1:-2]\n",
    "NumExp = len(myCols)\n",
    "AxDim = np.ceil(np.sqrt(NumExp))\n",
    "t = df[TimeAx].values/TimeUnit\n",
    "# plt.subplots(AxDim, AxDim, sharex='col')\n",
    "fig, ax = plt.subplots(figsize=[20,10], sharey=True)\n",
    "for idx, myExp in enumerate(myCols):\n",
    "#     print(myExp)\n",
    "    x = df[myExp].values\n",
    "    myResult = DetectR2MaxSingle(t,x,Partition)\n",
    "    plt.subplot(5,5, idx+1)\n",
    "    plt.plot(t, np.log(x))\n",
    "    plt.title(myExp)\n",
    "    if myResult is not False:\n",
    "        plt.scatter(myResult['time'], np.log(myResult['OD']))\n",
    "        plt.plot(myResult['time'], myResult['Slope']*myResult['time'] + myResult['ycorrect'], 'r', label='$\\mu$:{:.3f}, R2:{:.2f}'.format(myResult['Slope'], myResult['R2']))\n",
    "        myResult['ID'] = myExp\n",
    "        plt.legend()\n",
    "    plt.tick_params(left=False, bottom=False, labelleft=False, labelbottom=False)\n",
    "    \n",
    "fig.text(0.5, 0.1, 'time', ha='center')\n",
    "fig.text(0.1, 0.5, 'ln(OD)', va='center', rotation='vertical')\n",
    "plt.savefig('myPlots.svg', format='svg')"
   ]
  }
 ],
 "metadata": {
  "kernelspec": {
   "display_name": "biolabsim_py38",
   "language": "python",
   "name": "biolabsim_py38"
  },
  "language_info": {
   "codemirror_mode": {
    "name": "ipython",
    "version": 3
   },
   "file_extension": ".py",
   "mimetype": "text/x-python",
   "name": "python",
   "nbconvert_exporter": "python",
   "pygments_lexer": "ipython3",
   "version": "3.8.5"
  }
 },
 "nbformat": 4,
 "nbformat_minor": 5
}
